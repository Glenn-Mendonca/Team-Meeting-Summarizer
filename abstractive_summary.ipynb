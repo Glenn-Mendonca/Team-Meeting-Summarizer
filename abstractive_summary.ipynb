{
  "nbformat": 4,
  "nbformat_minor": 0,
  "metadata": {
    "colab": {
      "name": "abstractive-summary.ipynb",
      "provenance": [],
      "authorship_tag": "ABX9TyO1f2wZHVjqF/2jKLQ9fc+H",
      "include_colab_link": true
    },
    "kernelspec": {
      "name": "python3",
      "display_name": "Python 3"
    },
    "language_info": {
      "name": "python"
    }
  },
  "cells": [
    {
      "cell_type": "markdown",
      "metadata": {
        "id": "view-in-github",
        "colab_type": "text"
      },
      "source": [
        "<a href=\"https://colab.research.google.com/github/Glenn-Mendonca/Team-Meeting-Summarizer/blob/main/abstractive_summary.ipynb\" target=\"_parent\"><img src=\"https://colab.research.google.com/assets/colab-badge.svg\" alt=\"Open In Colab\"/></a>"
      ]
    },
    {
      "cell_type": "code",
      "execution_count": null,
      "metadata": {
        "colab": {
          "base_uri": "https://localhost:8080/"
        },
        "id": "VTl0tgfI-m6j",
        "outputId": "16594945-0ae5-49e3-c787-9ee8e1075cf4"
      },
      "outputs": [
        {
          "output_type": "stream",
          "name": "stdout",
          "text": [
            "Collecting transformers\n",
            "  Downloading transformers-4.17.0-py3-none-any.whl (3.8 MB)\n",
            "\u001b[K     |████████████████████████████████| 3.8 MB 22.5 MB/s \n",
            "\u001b[?25hRequirement already satisfied: importlib-metadata in /usr/local/lib/python3.7/dist-packages (from transformers) (4.11.3)\n",
            "Collecting sacremoses\n",
            "  Downloading sacremoses-0.0.49-py3-none-any.whl (895 kB)\n",
            "\u001b[K     |████████████████████████████████| 895 kB 45.7 MB/s \n",
            "\u001b[?25hCollecting huggingface-hub<1.0,>=0.1.0\n",
            "  Downloading huggingface_hub-0.4.0-py3-none-any.whl (67 kB)\n",
            "\u001b[K     |████████████████████████████████| 67 kB 5.6 MB/s \n",
            "\u001b[?25hCollecting tokenizers!=0.11.3,>=0.11.1\n",
            "  Downloading tokenizers-0.11.6-cp37-cp37m-manylinux_2_12_x86_64.manylinux2010_x86_64.whl (6.5 MB)\n",
            "\u001b[K     |████████████████████████████████| 6.5 MB 47.2 MB/s \n",
            "\u001b[?25hRequirement already satisfied: filelock in /usr/local/lib/python3.7/dist-packages (from transformers) (3.6.0)\n",
            "Requirement already satisfied: packaging>=20.0 in /usr/local/lib/python3.7/dist-packages (from transformers) (21.3)\n",
            "Requirement already satisfied: regex!=2019.12.17 in /usr/local/lib/python3.7/dist-packages (from transformers) (2019.12.20)\n",
            "Requirement already satisfied: requests in /usr/local/lib/python3.7/dist-packages (from transformers) (2.23.0)\n",
            "Requirement already satisfied: numpy>=1.17 in /usr/local/lib/python3.7/dist-packages (from transformers) (1.21.5)\n",
            "Collecting pyyaml>=5.1\n",
            "  Downloading PyYAML-6.0-cp37-cp37m-manylinux_2_5_x86_64.manylinux1_x86_64.manylinux_2_12_x86_64.manylinux2010_x86_64.whl (596 kB)\n",
            "\u001b[K     |████████████████████████████████| 596 kB 28.3 MB/s \n",
            "\u001b[?25hRequirement already satisfied: tqdm>=4.27 in /usr/local/lib/python3.7/dist-packages (from transformers) (4.63.0)\n",
            "Requirement already satisfied: typing-extensions>=3.7.4.3 in /usr/local/lib/python3.7/dist-packages (from huggingface-hub<1.0,>=0.1.0->transformers) (3.10.0.2)\n",
            "Requirement already satisfied: pyparsing!=3.0.5,>=2.0.2 in /usr/local/lib/python3.7/dist-packages (from packaging>=20.0->transformers) (3.0.7)\n",
            "Requirement already satisfied: zipp>=0.5 in /usr/local/lib/python3.7/dist-packages (from importlib-metadata->transformers) (3.7.0)\n",
            "Requirement already satisfied: idna<3,>=2.5 in /usr/local/lib/python3.7/dist-packages (from requests->transformers) (2.10)\n",
            "Requirement already satisfied: certifi>=2017.4.17 in /usr/local/lib/python3.7/dist-packages (from requests->transformers) (2021.10.8)\n",
            "Requirement already satisfied: urllib3!=1.25.0,!=1.25.1,<1.26,>=1.21.1 in /usr/local/lib/python3.7/dist-packages (from requests->transformers) (1.24.3)\n",
            "Requirement already satisfied: chardet<4,>=3.0.2 in /usr/local/lib/python3.7/dist-packages (from requests->transformers) (3.0.4)\n",
            "Requirement already satisfied: six in /usr/local/lib/python3.7/dist-packages (from sacremoses->transformers) (1.15.0)\n",
            "Requirement already satisfied: joblib in /usr/local/lib/python3.7/dist-packages (from sacremoses->transformers) (1.1.0)\n",
            "Requirement already satisfied: click in /usr/local/lib/python3.7/dist-packages (from sacremoses->transformers) (7.1.2)\n",
            "Installing collected packages: pyyaml, tokenizers, sacremoses, huggingface-hub, transformers\n",
            "  Attempting uninstall: pyyaml\n",
            "    Found existing installation: PyYAML 3.13\n",
            "    Uninstalling PyYAML-3.13:\n",
            "      Successfully uninstalled PyYAML-3.13\n",
            "Successfully installed huggingface-hub-0.4.0 pyyaml-6.0 sacremoses-0.0.49 tokenizers-0.11.6 transformers-4.17.0\n"
          ]
        }
      ],
      "source": [
        "!pip install transformers"
      ]
    },
    {
      "cell_type": "code",
      "source": [
        "!pip install spacy"
      ],
      "metadata": {
        "colab": {
          "base_uri": "https://localhost:8080/"
        },
        "id": "wG04J0QjFdZs",
        "outputId": "06e486b9-8cfd-452b-9416-b3c65ef6379c"
      },
      "execution_count": null,
      "outputs": [
        {
          "output_type": "stream",
          "name": "stdout",
          "text": [
            "Requirement already satisfied: spacy in /usr/local/lib/python3.7/dist-packages (2.2.4)\n",
            "Requirement already satisfied: blis<0.5.0,>=0.4.0 in /usr/local/lib/python3.7/dist-packages (from spacy) (0.4.1)\n",
            "Requirement already satisfied: tqdm<5.0.0,>=4.38.0 in /usr/local/lib/python3.7/dist-packages (from spacy) (4.63.0)\n",
            "Requirement already satisfied: numpy>=1.15.0 in /usr/local/lib/python3.7/dist-packages (from spacy) (1.21.5)\n",
            "Requirement already satisfied: plac<1.2.0,>=0.9.6 in /usr/local/lib/python3.7/dist-packages (from spacy) (1.1.3)\n",
            "Requirement already satisfied: murmurhash<1.1.0,>=0.28.0 in /usr/local/lib/python3.7/dist-packages (from spacy) (1.0.6)\n",
            "Requirement already satisfied: srsly<1.1.0,>=1.0.2 in /usr/local/lib/python3.7/dist-packages (from spacy) (1.0.5)\n",
            "Requirement already satisfied: catalogue<1.1.0,>=0.0.7 in /usr/local/lib/python3.7/dist-packages (from spacy) (1.0.0)\n",
            "Requirement already satisfied: setuptools in /usr/local/lib/python3.7/dist-packages (from spacy) (57.4.0)\n",
            "Requirement already satisfied: thinc==7.4.0 in /usr/local/lib/python3.7/dist-packages (from spacy) (7.4.0)\n",
            "Requirement already satisfied: requests<3.0.0,>=2.13.0 in /usr/local/lib/python3.7/dist-packages (from spacy) (2.23.0)\n",
            "Requirement already satisfied: cymem<2.1.0,>=2.0.2 in /usr/local/lib/python3.7/dist-packages (from spacy) (2.0.6)\n",
            "Requirement already satisfied: wasabi<1.1.0,>=0.4.0 in /usr/local/lib/python3.7/dist-packages (from spacy) (0.9.0)\n",
            "Requirement already satisfied: preshed<3.1.0,>=3.0.2 in /usr/local/lib/python3.7/dist-packages (from spacy) (3.0.6)\n",
            "Requirement already satisfied: importlib-metadata>=0.20 in /usr/local/lib/python3.7/dist-packages (from catalogue<1.1.0,>=0.0.7->spacy) (4.11.3)\n",
            "Requirement already satisfied: typing-extensions>=3.6.4 in /usr/local/lib/python3.7/dist-packages (from importlib-metadata>=0.20->catalogue<1.1.0,>=0.0.7->spacy) (3.10.0.2)\n",
            "Requirement already satisfied: zipp>=0.5 in /usr/local/lib/python3.7/dist-packages (from importlib-metadata>=0.20->catalogue<1.1.0,>=0.0.7->spacy) (3.7.0)\n",
            "Requirement already satisfied: chardet<4,>=3.0.2 in /usr/local/lib/python3.7/dist-packages (from requests<3.0.0,>=2.13.0->spacy) (3.0.4)\n",
            "Requirement already satisfied: certifi>=2017.4.17 in /usr/local/lib/python3.7/dist-packages (from requests<3.0.0,>=2.13.0->spacy) (2021.10.8)\n",
            "Requirement already satisfied: urllib3!=1.25.0,!=1.25.1,<1.26,>=1.21.1 in /usr/local/lib/python3.7/dist-packages (from requests<3.0.0,>=2.13.0->spacy) (1.24.3)\n",
            "Requirement already satisfied: idna<3,>=2.5 in /usr/local/lib/python3.7/dist-packages (from requests<3.0.0,>=2.13.0->spacy) (2.10)\n"
          ]
        }
      ]
    },
    {
      "cell_type": "code",
      "source": [
        "!pip install bert-extractive-summarizer"
      ],
      "metadata": {
        "colab": {
          "base_uri": "https://localhost:8080/"
        },
        "id": "o-7H171gFgib",
        "outputId": "2ad3f48b-3801-4cf2-af02-3b90b7ffcb97"
      },
      "execution_count": null,
      "outputs": [
        {
          "output_type": "stream",
          "name": "stdout",
          "text": [
            "Collecting bert-extractive-summarizer\n",
            "  Downloading bert_extractive_summarizer-0.10.1-py3-none-any.whl (25 kB)\n",
            "Requirement already satisfied: spacy in /usr/local/lib/python3.7/dist-packages (from bert-extractive-summarizer) (2.2.4)\n",
            "Requirement already satisfied: transformers in /usr/local/lib/python3.7/dist-packages (from bert-extractive-summarizer) (4.17.0)\n",
            "Requirement already satisfied: scikit-learn in /usr/local/lib/python3.7/dist-packages (from bert-extractive-summarizer) (1.0.2)\n",
            "Requirement already satisfied: scipy>=1.1.0 in /usr/local/lib/python3.7/dist-packages (from scikit-learn->bert-extractive-summarizer) (1.4.1)\n",
            "Requirement already satisfied: threadpoolctl>=2.0.0 in /usr/local/lib/python3.7/dist-packages (from scikit-learn->bert-extractive-summarizer) (3.1.0)\n",
            "Requirement already satisfied: numpy>=1.14.6 in /usr/local/lib/python3.7/dist-packages (from scikit-learn->bert-extractive-summarizer) (1.21.5)\n",
            "Requirement already satisfied: joblib>=0.11 in /usr/local/lib/python3.7/dist-packages (from scikit-learn->bert-extractive-summarizer) (1.1.0)\n",
            "Requirement already satisfied: plac<1.2.0,>=0.9.6 in /usr/local/lib/python3.7/dist-packages (from spacy->bert-extractive-summarizer) (1.1.3)\n",
            "Requirement already satisfied: blis<0.5.0,>=0.4.0 in /usr/local/lib/python3.7/dist-packages (from spacy->bert-extractive-summarizer) (0.4.1)\n",
            "Requirement already satisfied: wasabi<1.1.0,>=0.4.0 in /usr/local/lib/python3.7/dist-packages (from spacy->bert-extractive-summarizer) (0.9.0)\n",
            "Requirement already satisfied: srsly<1.1.0,>=1.0.2 in /usr/local/lib/python3.7/dist-packages (from spacy->bert-extractive-summarizer) (1.0.5)\n",
            "Requirement already satisfied: setuptools in /usr/local/lib/python3.7/dist-packages (from spacy->bert-extractive-summarizer) (57.4.0)\n",
            "Requirement already satisfied: tqdm<5.0.0,>=4.38.0 in /usr/local/lib/python3.7/dist-packages (from spacy->bert-extractive-summarizer) (4.63.0)\n",
            "Requirement already satisfied: murmurhash<1.1.0,>=0.28.0 in /usr/local/lib/python3.7/dist-packages (from spacy->bert-extractive-summarizer) (1.0.6)\n",
            "Requirement already satisfied: thinc==7.4.0 in /usr/local/lib/python3.7/dist-packages (from spacy->bert-extractive-summarizer) (7.4.0)\n",
            "Requirement already satisfied: requests<3.0.0,>=2.13.0 in /usr/local/lib/python3.7/dist-packages (from spacy->bert-extractive-summarizer) (2.23.0)\n",
            "Requirement already satisfied: preshed<3.1.0,>=3.0.2 in /usr/local/lib/python3.7/dist-packages (from spacy->bert-extractive-summarizer) (3.0.6)\n",
            "Requirement already satisfied: catalogue<1.1.0,>=0.0.7 in /usr/local/lib/python3.7/dist-packages (from spacy->bert-extractive-summarizer) (1.0.0)\n",
            "Requirement already satisfied: cymem<2.1.0,>=2.0.2 in /usr/local/lib/python3.7/dist-packages (from spacy->bert-extractive-summarizer) (2.0.6)\n",
            "Requirement already satisfied: importlib-metadata>=0.20 in /usr/local/lib/python3.7/dist-packages (from catalogue<1.1.0,>=0.0.7->spacy->bert-extractive-summarizer) (4.11.3)\n",
            "Requirement already satisfied: typing-extensions>=3.6.4 in /usr/local/lib/python3.7/dist-packages (from importlib-metadata>=0.20->catalogue<1.1.0,>=0.0.7->spacy->bert-extractive-summarizer) (3.10.0.2)\n",
            "Requirement already satisfied: zipp>=0.5 in /usr/local/lib/python3.7/dist-packages (from importlib-metadata>=0.20->catalogue<1.1.0,>=0.0.7->spacy->bert-extractive-summarizer) (3.7.0)\n",
            "Requirement already satisfied: idna<3,>=2.5 in /usr/local/lib/python3.7/dist-packages (from requests<3.0.0,>=2.13.0->spacy->bert-extractive-summarizer) (2.10)\n",
            "Requirement already satisfied: certifi>=2017.4.17 in /usr/local/lib/python3.7/dist-packages (from requests<3.0.0,>=2.13.0->spacy->bert-extractive-summarizer) (2021.10.8)\n",
            "Requirement already satisfied: chardet<4,>=3.0.2 in /usr/local/lib/python3.7/dist-packages (from requests<3.0.0,>=2.13.0->spacy->bert-extractive-summarizer) (3.0.4)\n",
            "Requirement already satisfied: urllib3!=1.25.0,!=1.25.1,<1.26,>=1.21.1 in /usr/local/lib/python3.7/dist-packages (from requests<3.0.0,>=2.13.0->spacy->bert-extractive-summarizer) (1.24.3)\n",
            "Requirement already satisfied: filelock in /usr/local/lib/python3.7/dist-packages (from transformers->bert-extractive-summarizer) (3.6.0)\n",
            "Requirement already satisfied: sacremoses in /usr/local/lib/python3.7/dist-packages (from transformers->bert-extractive-summarizer) (0.0.49)\n",
            "Requirement already satisfied: huggingface-hub<1.0,>=0.1.0 in /usr/local/lib/python3.7/dist-packages (from transformers->bert-extractive-summarizer) (0.4.0)\n",
            "Requirement already satisfied: packaging>=20.0 in /usr/local/lib/python3.7/dist-packages (from transformers->bert-extractive-summarizer) (21.3)\n",
            "Requirement already satisfied: tokenizers!=0.11.3,>=0.11.1 in /usr/local/lib/python3.7/dist-packages (from transformers->bert-extractive-summarizer) (0.11.6)\n",
            "Requirement already satisfied: regex!=2019.12.17 in /usr/local/lib/python3.7/dist-packages (from transformers->bert-extractive-summarizer) (2019.12.20)\n",
            "Requirement already satisfied: pyyaml>=5.1 in /usr/local/lib/python3.7/dist-packages (from transformers->bert-extractive-summarizer) (6.0)\n",
            "Requirement already satisfied: pyparsing!=3.0.5,>=2.0.2 in /usr/local/lib/python3.7/dist-packages (from packaging>=20.0->transformers->bert-extractive-summarizer) (3.0.7)\n",
            "Requirement already satisfied: click in /usr/local/lib/python3.7/dist-packages (from sacremoses->transformers->bert-extractive-summarizer) (7.1.2)\n",
            "Requirement already satisfied: six in /usr/local/lib/python3.7/dist-packages (from sacremoses->transformers->bert-extractive-summarizer) (1.15.0)\n",
            "Installing collected packages: bert-extractive-summarizer\n",
            "Successfully installed bert-extractive-summarizer-0.10.1\n"
          ]
        }
      ]
    },
    {
      "cell_type": "code",
      "source": [
        "from summarizer import Summarizer, TransformerSummarizer\n"
      ],
      "metadata": {
        "id": "HtOIjoeVFozj"
      },
      "execution_count": null,
      "outputs": []
    },
    {
      "cell_type": "code",
      "source": [
        "body = '''\n",
        "\n",
        "\n",
        "Kranti Wagle CRCE\n",
        "Yeah, good morning. Can we start? \n",
        "jagruti save\n",
        "Yes, yes. \n",
        "CRCE 9287 Glen R\n",
        "Good morning to all teachers. here and students. My name is Glenn Rodricks and I want to We all live in change times where everyone comfort of their home. But this work-life model has its own Also, we are constantly working while at home and cannot distinguish To help ease. The burden of virtual After meeting, we have created an interactive application called the Mid Next slide. \n",
        "Kranti Wagle CRCE\n",
        "your member title and because Nilesha had joined before this Yeah. \n",
        "Shubham 9276\n",
        "So I know I was on mute. our topic for many project is online meeting summarizer, \n",
        "jagruti save\n",
        "Okay. \n",
        "Shubham 9276\n",
        "Next. \n",
        "CRCE 9287 Glen R\n",
        "It comes with various features aimed at making meets easier for all kinds of institutions. Schools and enterprises are like, our application into any meat, regardless of where it is hosted. It generates a conversations held in the meat and uses natural language processing take note of important statements made in the mid it also generates a report how much of the agenda was covered during the meet. Most cannot integrate into meets hosted on any website and have a specific Meetup. Our app is not bound by those anywhere. This is one of the many advantages our app Now, I'm going to let my friend Shubham continue the explanation here on. \n",
        "Shubham 9276\n",
        "Thank you, Glenn. Coming to the problem statement. Having a goal in mind when beginning with a project is always beneficial. efforts towards it. a problem relevant to recent changes in the way, all institutions and corporations This means hours of meetings and online, transcript and summary of a meeting can always be beneficial. attending the meeting. Hence, a team the need of the art. coming to the given by divyansh. \n",
        "CRCE 9249 DIVYANSH\n",
        "Thanks so long. Good Morning Mom. Good morning Teach. Good morning, Teachers. As you all know, since Covid-19 struck the World Online Meeting classes shifted online, even though the transition was hard, people now feel a comfort of attending meetings from anywhere in the world, but people still need to keep track important information during these online meetings. Next, So online. Meet the progress of each student on the basis of the response. It important information discussed during an on fist meeting please. Of help of it would help to ease the work of students and teachers and make the work has been free. What \n",
        "CRCE 9272 Glenn_M\n",
        "Thank you, Deviant. I'm A main goal with this project was to create an app to transcripts of meets. It should be a one, stop application. That makes by providing useful insights like what's per minute engagement of Next. Towards Anna, Nidovico and Onresgoja. This Has a theoretical and descriptive basis for minutes. This paper mainly contents methods that can be used for summarization by training, done us, whatever data sets. Summary, foundation for research into automatic meditating of minutes. The main goal is to prepare the flow for automatic managing finalizing the sources. reliable. By comparing a variety of types. They have tried to get a reasonable typology of meetings summarize the types of describes the minute, the grassettes and made a survey of summarization. They also have drafted, the first steps to the creation of meetings and minutes, which will be further used for developing automatic The paper has a following research gaps. this theoretical knowledge about various methods of meeting summarization or However, it lacks using the summarized data to further scheduled Basically, to check if desired meeting objective is met, \n",
        "CRCE 9249 DIVYANSH\n",
        "Times Usually meeting materials is documented by writing them papers or typing them In this study. The solution offered is to implement a web-based application, which can record the voice of meeting participants then So, the result of the recording process of the meeting material more effective and efficient next and features for speech processing. The year they were they have proposed a new human voice recognition system. Next, In this study, a chrome used for making the process of transcription hassle-free. It uses generate concise matter. This paper illustrates can be traced from online meetings. Over to Glen. \n",
        "CRCE 9287 Glen R\n",
        "After various resources, and collecting information. there are two major components required to complete our app. and the other is the summarization of the Next. transcript are web speech to text using machine learning. In web, scraping Scraping, we take the captions generated by the meet interface and compile them into a file, Whereas, in speech to text, we use natural language processing to convert the the speech to text method, uses more resources deployed in the client machine. The next sugar. \n",
        "Shubham 9276\n",
        "Thank you, Glenn. Coming to the next major component of our application which is summarization. Basically, summarization based on the transcript generated extractive summarization and Extractive summarization involves picking up the most important and lines from the text. Then combining all the important lines to create It is quick and easy to implement as it only has to identify important filler words and phrases. It is a comparatively better option the entire summary is needed. methods of people learning. It finds patterns in the test and the points, and meaning same. It takes implement. That is a disadvantage of abstract of fine. Tuning also takes time However, it is When a new insight is needed, that could have gotten missed when using extractive Now coming to a conclusion methods used. \n",
        "CRCE 9272 Glenn_M\n",
        "The methods used. \n",
        "Shubham 9276\n",
        "as of now we have implemented web scraping using selenium to extract transitive generated by Google Meet In the coming few weeks, we will be implementing a deep learning-based model for traditional using NLP. Or making use of predefined APIs like text. using a custom space to text will allow us to Google Meet. However, distinguishing every individual's During transcript, generation will be a challenging task. in the previous slide, each of the two types have their own demerits however, we are yet to decide which of the two to implement in our application While extractive is easier to implement, it provides a rather summary of the input Meanwhile, abstractive summarization of text. and is rather difficult. Coming to the softwares used. We have learning and its various sub-library libraries such as scikit-learn, numpy, Python take, inter library for using the or using to to build the user interface. Google Tensorflow for building a model that is yet to be implemented. Python Language Processing, for summarization of the transcript. Beautiful Soup Python Library for passing HTML. application. Any minutes of a meeting, includes the following namely corporation date and time of meeting list of attendees. the meet. In the end, it consists of an abstractive summary of the entire transcript written by the person responsible. As that is our human text. for summarization, we will be using classification machine algorithms, some of which are support vector machines, knife base, random forest, neighbors and logistic regression. entire application. Meeting will be created by who will have this application running on his or her site transcript generation, currently from HTML, elements of Google Meet, instead of processing as mentioned here. Some of the features of our apps overview. That is review the entire transcript and give a brief abstractive summary of insights important dates, discussed and saved as entire sentences. the meet which will also be editable. analytics, such as duration meat number of participants spoken etc. Some other features minute real time and status of the meet, which you could be engaging, active, number of people, speaking number of words of words, individual etc. it will also include new every time a different person speaks during the transcript generation since functionality is this software can be used across all Web meetings regardless of any permissions. Coming to the implementation scraping implementation, that will be given by Glenn. \n",
        "CRCE 9272 Glenn_M\n",
        "Okay, so this is our main application flow. The blocks may are used from Python pre-build the packages sub packages, within them are listed in green color. So and beautiful soup as Python splash initial app and scraper. animation for beginning of the application, The initial has a new window which takes the Google meet code the board can join scraper scrapes the captions which And then which will add to the transcript block GUI there are furthermore functions in this app package, which the components within the GUI. and once the transcript generated, it will be sent to further transcription summarization. \n",
        "Shubham 9276\n",
        "Suicidal impact will be 11 given by Glenn Rodricks. \n",
        "CRCE 9287 Glen R\n",
        "All right. Thank you Shubham. Our application is not only towards companies, it is also useful for students teachers and everyone who use who attends online meetings, having everything automated to make the most of the mate while impact of our app will be maximized audience. next, this I would of our app. In this next semester, we plan to include and some other quality of life features such as transcript as a text file. We hope to improve the life of all the The, the next slide will be taken by divyansh. \n",
        "CRCE 9249 DIVYANSH\n",
        "Here are some of the websites where you can find have referred and used and some websites. We have referred for understand the working of Python Thank you, Mom. \n",
        "CRCE 9272 Glenn_M\n",
        "So we're gonna delete it and then it gets added over here. If the Play button is active, currently it is on pause mode. speaking will be added to the transcript generator. \n",
        "\n",
        "\n",
        "'''"
      ],
      "metadata": {
        "id": "PgXA8aDKFuz9"
      },
      "execution_count": null,
      "outputs": []
    },
    {
      "cell_type": "code",
      "source": [
        "GPT2_model = TransformerSummarizer(transformer_type=\"GPT2\",transformer_model_key=\"gpt2-medium\")\n",
        "full = ''.join(GPT2_model(body, min_length=100))\n",
        "print(full)"
      ],
      "metadata": {
        "colab": {
          "base_uri": "https://localhost:8080/"
        },
        "id": "Ks9KWIChF0xD",
        "outputId": "e2fba509-cfcf-4562-ebd3-3fdc11e838aa"
      },
      "execution_count": null,
      "outputs": [
        {
          "output_type": "stream",
          "name": "stdout",
          "text": [
            "My name is Glenn Rodricks and I want to We all live in change times where everyone comfort of their home. This is one of the many advantages our app Now, I'm going to let my friend Shubham continue the explanation here on. a problem relevant to recent changes in the way, all institutions and corporations This means hours of meetings and online, transcript and summary of a meeting can always be beneficial. As you all know, since Covid-19 struck the World Online Meeting classes shifted online, even though the transition was hard, people now feel a comfort of attending meetings from anywhere in the world, but people still need to keep track important information during these online meetings. this theoretical knowledge about various methods of meeting summarization or However, it lacks using the summarized data to further scheduled Basically, to check if desired meeting objective is met, \n",
            "CRCE 9249 DIVYANSH\n",
            "Times Usually meeting materials is documented by writing them papers or typing them In this study. Shubham 9276\n",
            "as of now we have implemented web scraping using selenium to extract transitive generated by Google Meet In the coming few weeks, we will be implementing a deep learning-based model for traditional using NLP. for summarization, we will be using classification machine algorithms, some of which are support vector machines, knife base, random forest, neighbors and logistic regression.\n"
          ]
        }
      ]
    },
    {
      "cell_type": "code",
      "source": [
        ""
      ],
      "metadata": {
        "id": "fhVgvMkIGI0Y"
      },
      "execution_count": null,
      "outputs": []
    }
  ]
}